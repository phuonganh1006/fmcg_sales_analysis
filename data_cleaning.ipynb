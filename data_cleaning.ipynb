{
  "cells": [
    {
      "cell_type": "code",
      "execution_count": null,
      "id": "95eb7b26-7a9e-46df-a680-a91cb2b57d2f",
      "metadata": {
        "id": "95eb7b26-7a9e-46df-a680-a91cb2b57d2f"
      },
      "outputs": [],
      "source": [
        "import pandas as pd\n",
        "import numpy as np"
      ]
    },
    {
      "cell_type": "markdown",
      "id": "d4a21b02-d761-45fa-b85f-1d79889b53aa",
      "metadata": {
        "id": "d4a21b02-d761-45fa-b85f-1d79889b53aa"
      },
      "source": [
        "### Đọc file data & thông tin"
      ]
    },
    {
      "cell_type": "code",
      "execution_count": null,
      "id": "86b3ae32-798d-4788-9880-5edc7dc7d515",
      "metadata": {
        "id": "86b3ae32-798d-4788-9880-5edc7dc7d515",
        "outputId": "e0f47f24-7dc3-4402-cc0c-3cb8a1de2bce"
      },
      "outputs": [
        {
          "data": {
            "text/html": [
              "<div>\n",
              "<style scoped>\n",
              "    .dataframe tbody tr th:only-of-type {\n",
              "        vertical-align: middle;\n",
              "    }\n",
              "\n",
              "    .dataframe tbody tr th {\n",
              "        vertical-align: top;\n",
              "    }\n",
              "\n",
              "    .dataframe thead th {\n",
              "        text-align: right;\n",
              "    }\n",
              "</style>\n",
              "<table border=\"1\" class=\"dataframe\">\n",
              "  <thead>\n",
              "    <tr style=\"text-align: right;\">\n",
              "      <th></th>\n",
              "      <th>STT</th>\n",
              "      <th>Tên sản phẩm</th>\n",
              "      <th>Giá bán</th>\n",
              "      <th>Doanh số 365 ngày gần nhất</th>\n",
              "      <th>Sản phẩm đã bán trong khoảng 365 ngày gần nhất</th>\n",
              "      <th>Tổng doanh số</th>\n",
              "      <th>Tổng lượt bán</th>\n",
              "      <th>Tổng đánh giá</th>\n",
              "      <th>Brand</th>\n",
              "    </tr>\n",
              "  </thead>\n",
              "  <tbody>\n",
              "    <tr>\n",
              "      <th>0</th>\n",
              "      <td>1</td>\n",
              "      <td>[Tặng hộp hoặc sốt] Combo 3 gói sốt muối kim c...</td>\n",
              "      <td>91100</td>\n",
              "      <td>2383563000</td>\n",
              "      <td>24148</td>\n",
              "      <td>4999687040</td>\n",
              "      <td>50686</td>\n",
              "      <td>11674</td>\n",
              "      <td>O'food</td>\n",
              "    </tr>\n",
              "    <tr>\n",
              "      <th>1</th>\n",
              "      <td>2</td>\n",
              "      <td>Sa Tế Sò Điệp Thích Cay Sốt Trộn Mì, Hủ Tiếu, ...</td>\n",
              "      <td>59000</td>\n",
              "      <td>812970720</td>\n",
              "      <td>14151</td>\n",
              "      <td>4396505105</td>\n",
              "      <td>78015</td>\n",
              "      <td>17262</td>\n",
              "      <td>THÍCH CAY</td>\n",
              "    </tr>\n",
              "    <tr>\n",
              "      <th>2</th>\n",
              "      <td>3</td>\n",
              "      <td>Nước Mắm Tĩn Nhãn Đỏ Độ Đạm 40N Cặp 2 Chai Thủ...</td>\n",
              "      <td>330000</td>\n",
              "      <td>679857000</td>\n",
              "      <td>2073</td>\n",
              "      <td>1181512000</td>\n",
              "      <td>3601</td>\n",
              "      <td>746</td>\n",
              "      <td>Nước Mắm Tĩn</td>\n",
              "    </tr>\n",
              "    <tr>\n",
              "      <th>3</th>\n",
              "      <td>4</td>\n",
              "      <td>Mắm nêm pha sẵn cao cấp Làng Chài Xưa, nguyên ...</td>\n",
              "      <td>63000</td>\n",
              "      <td>638419100</td>\n",
              "      <td>9847</td>\n",
              "      <td>744189300</td>\n",
              "      <td>11477</td>\n",
              "      <td>1903</td>\n",
              "      <td>Làng Chài Xưa</td>\n",
              "    </tr>\n",
              "    <tr>\n",
              "      <th>4</th>\n",
              "      <td>5</td>\n",
              "      <td>Sốt Gà Rán Ottogi Chai 2.4KG</td>\n",
              "      <td>145000</td>\n",
              "      <td>548102000</td>\n",
              "      <td>3820</td>\n",
              "      <td>960943300</td>\n",
              "      <td>6715</td>\n",
              "      <td>674</td>\n",
              "      <td>Ottogi</td>\n",
              "    </tr>\n",
              "  </tbody>\n",
              "</table>\n",
              "</div>"
            ],
            "text/plain": [
              "   STT                                       Tên sản phẩm  Giá bán  \\\n",
              "0    1  [Tặng hộp hoặc sốt] Combo 3 gói sốt muối kim c...    91100   \n",
              "1    2  Sa Tế Sò Điệp Thích Cay Sốt Trộn Mì, Hủ Tiếu, ...    59000   \n",
              "2    3  Nước Mắm Tĩn Nhãn Đỏ Độ Đạm 40N Cặp 2 Chai Thủ...   330000   \n",
              "3    4  Mắm nêm pha sẵn cao cấp Làng Chài Xưa, nguyên ...    63000   \n",
              "4    5                       Sốt Gà Rán Ottogi Chai 2.4KG   145000   \n",
              "\n",
              "  Doanh số 365 ngày gần nhất  Sản phẩm đã bán trong khoảng 365 ngày gần nhất  \\\n",
              "0                 2383563000                                           24148   \n",
              "1                  812970720                                           14151   \n",
              "2                  679857000                                            2073   \n",
              "3                  638419100                                            9847   \n",
              "4                  548102000                                            3820   \n",
              "\n",
              "   Tổng doanh số  Tổng lượt bán  Tổng đánh giá          Brand  \n",
              "0     4999687040          50686          11674         O'food  \n",
              "1     4396505105          78015          17262      THÍCH CAY  \n",
              "2     1181512000           3601            746   Nước Mắm Tĩn  \n",
              "3      744189300          11477           1903  Làng Chài Xưa  \n",
              "4      960943300           6715            674         Ottogi  "
            ]
          },
          "execution_count": 2,
          "metadata": {},
          "output_type": "execute_result"
        }
      ],
      "source": [
        "data = pd.read_excel(\"fmcg_sales.xlsx\")\n",
        "data.head()"
      ]
    },
    {
      "cell_type": "code",
      "execution_count": null,
      "id": "c46b7a2e-cdc5-4dda-81c1-c0fdc261a8c7",
      "metadata": {
        "id": "c46b7a2e-cdc5-4dda-81c1-c0fdc261a8c7",
        "outputId": "f1e8209a-aa81-4eb2-e781-7456fd30dff1"
      },
      "outputs": [
        {
          "name": "stdout",
          "output_type": "stream",
          "text": [
            "<class 'pandas.core.frame.DataFrame'>\n",
            "RangeIndex: 200 entries, 0 to 199\n",
            "Data columns (total 9 columns):\n",
            " #   Column                                          Non-Null Count  Dtype \n",
            "---  ------                                          --------------  ----- \n",
            " 0   STT                                             200 non-null    int64 \n",
            " 1   Tên sản phẩm                                    200 non-null    object\n",
            " 2   Giá bán                                         200 non-null    int64 \n",
            " 3   Doanh số 365 ngày gần nhất                      200 non-null    object\n",
            " 4   Sản phẩm đã bán trong khoảng 365 ngày gần nhất  200 non-null    int64 \n",
            " 5   Tổng doanh số                                   200 non-null    int64 \n",
            " 6   Tổng lượt bán                                   200 non-null    int64 \n",
            " 7   Tổng đánh giá                                   200 non-null    int64 \n",
            " 8   Brand                                           200 non-null    object\n",
            "dtypes: int64(6), object(3)\n",
            "memory usage: 14.2+ KB\n"
          ]
        }
      ],
      "source": [
        "data.info()"
      ]
    },
    {
      "cell_type": "markdown",
      "id": "a47992b9-50a1-4d36-8f7c-e01ae437068c",
      "metadata": {
        "id": "a47992b9-50a1-4d36-8f7c-e01ae437068c"
      },
      "source": [
        "### Chuẩn hóa data cột Brand"
      ]
    },
    {
      "cell_type": "code",
      "execution_count": null,
      "id": "8e5082b1-a79a-4f37-a3cc-376ae1dea21d",
      "metadata": {
        "id": "8e5082b1-a79a-4f37-a3cc-376ae1dea21d",
        "outputId": "f6dda366-171a-4989-9752-8ac269c7502c"
      },
      "outputs": [
        {
          "data": {
            "text/plain": [
              "array([\"O'food\", 'THÍCH CAY', 'Nước Mắm Tĩn', 'Làng Chài Xưa', 'Ottogi',\n",
              "       'I-soup', '-', 'Làng chài xưa', 'THUẬN PHÁT', 'Cholimex', 'Vipep',\n",
              "       'Lee Kum Kee', 'Barona', 'Dh Foods', 'TINH NGUYÊN', 'I-Ya.ua',\n",
              "       'THUẬN PHÁT HƯNG', 'ÔngChàVà', 'Seaspimex Since 1993',\n",
              "       'Ông Chà Và'], dtype=object)"
            ]
          },
          "execution_count": 4,
          "metadata": {},
          "output_type": "execute_result"
        }
      ],
      "source": [
        "# Xem danh sách các brand\n",
        "data['Brand'].unique()"
      ]
    },
    {
      "cell_type": "code",
      "execution_count": null,
      "id": "9cd4c938-5aef-41cf-8c67-e9531f38caf1",
      "metadata": {
        "id": "9cd4c938-5aef-41cf-8c67-e9531f38caf1",
        "outputId": "38f3f615-bf60-48c9-888f-f508d8aa622d"
      },
      "outputs": [
        {
          "data": {
            "text/html": [
              "<div>\n",
              "<style scoped>\n",
              "    .dataframe tbody tr th:only-of-type {\n",
              "        vertical-align: middle;\n",
              "    }\n",
              "\n",
              "    .dataframe tbody tr th {\n",
              "        vertical-align: top;\n",
              "    }\n",
              "\n",
              "    .dataframe thead th {\n",
              "        text-align: right;\n",
              "    }\n",
              "</style>\n",
              "<table border=\"1\" class=\"dataframe\">\n",
              "  <thead>\n",
              "    <tr style=\"text-align: right;\">\n",
              "      <th></th>\n",
              "      <th>STT</th>\n",
              "      <th>Tên sản phẩm</th>\n",
              "      <th>Giá bán</th>\n",
              "      <th>Doanh số 365 ngày gần nhất</th>\n",
              "      <th>Sản phẩm đã bán trong khoảng 365 ngày gần nhất</th>\n",
              "      <th>Tổng doanh số</th>\n",
              "      <th>Tổng lượt bán</th>\n",
              "      <th>Tổng đánh giá</th>\n",
              "      <th>Brand</th>\n",
              "    </tr>\n",
              "  </thead>\n",
              "  <tbody>\n",
              "    <tr>\n",
              "      <th>9</th>\n",
              "      <td>10</td>\n",
              "      <td>Combo 4 Nước mắm cá cơm Thuận Phát 40 độ đạm 6...</td>\n",
              "      <td>257000</td>\n",
              "      <td>447466320</td>\n",
              "      <td>1686</td>\n",
              "      <td>535766552</td>\n",
              "      <td>2014</td>\n",
              "      <td>522</td>\n",
              "      <td>-</td>\n",
              "    </tr>\n",
              "    <tr>\n",
              "      <th>164</th>\n",
              "      <td>165</td>\n",
              "      <td>Combo Tiện Lợi - Sa tế sò điệp 250g, Kho quẹt ...</td>\n",
              "      <td>149000</td>\n",
              "      <td>61936100</td>\n",
              "      <td>397</td>\n",
              "      <td>183777970</td>\n",
              "      <td>1179</td>\n",
              "      <td>314</td>\n",
              "      <td>-</td>\n",
              "    </tr>\n",
              "    <tr>\n",
              "      <th>175</th>\n",
              "      <td>176</td>\n",
              "      <td>Sốt me chua cay Thích cay, xào cút lộn, ốc, hả...</td>\n",
              "      <td>68000</td>\n",
              "      <td>58083600</td>\n",
              "      <td>755</td>\n",
              "      <td>109532300</td>\n",
              "      <td>1417</td>\n",
              "      <td>312</td>\n",
              "      <td>-</td>\n",
              "    </tr>\n",
              "    <tr>\n",
              "      <th>193</th>\n",
              "      <td>194</td>\n",
              "      <td>Nước Chấm Muối Ớt Xanh Thích Cay 250ml Nước Ch...</td>\n",
              "      <td>59000</td>\n",
              "      <td>51727010</td>\n",
              "      <td>880</td>\n",
              "      <td>251364925</td>\n",
              "      <td>4309</td>\n",
              "      <td>1154</td>\n",
              "      <td>-</td>\n",
              "    </tr>\n",
              "  </tbody>\n",
              "</table>\n",
              "</div>"
            ],
            "text/plain": [
              "     STT                                       Tên sản phẩm  Giá bán  \\\n",
              "9     10  Combo 4 Nước mắm cá cơm Thuận Phát 40 độ đạm 6...   257000   \n",
              "164  165  Combo Tiện Lợi - Sa tế sò điệp 250g, Kho quẹt ...   149000   \n",
              "175  176  Sốt me chua cay Thích cay, xào cút lộn, ốc, hả...    68000   \n",
              "193  194  Nước Chấm Muối Ớt Xanh Thích Cay 250ml Nước Ch...    59000   \n",
              "\n",
              "    Doanh số 365 ngày gần nhất  \\\n",
              "9                    447466320   \n",
              "164                   61936100   \n",
              "175                   58083600   \n",
              "193                   51727010   \n",
              "\n",
              "     Sản phẩm đã bán trong khoảng 365 ngày gần nhất  Tổng doanh số  \\\n",
              "9                                              1686      535766552   \n",
              "164                                             397      183777970   \n",
              "175                                             755      109532300   \n",
              "193                                             880      251364925   \n",
              "\n",
              "     Tổng lượt bán  Tổng đánh giá Brand  \n",
              "9             2014            522     -  \n",
              "164           1179            314     -  \n",
              "175           1417            312     -  \n",
              "193           4309           1154     -  "
            ]
          },
          "execution_count": 5,
          "metadata": {},
          "output_type": "execute_result"
        }
      ],
      "source": [
        "data[data['Brand']=='-']"
      ]
    },
    {
      "cell_type": "code",
      "execution_count": null,
      "id": "399477c3-99a7-401b-8a06-300aa2a7a334",
      "metadata": {
        "id": "399477c3-99a7-401b-8a06-300aa2a7a334"
      },
      "outputs": [],
      "source": [
        "data.loc[data['Brand']=='ÔngChàVà', 'Brand']='Ông Chà Và'\n",
        "data.loc[data['Brand']=='Làng chài xưa', 'Brand']='Làng Chài Xưa'\n",
        "data.loc[data['Brand']=='THUẬN PHÁT HƯNG', 'Brand']='Thuận Phát'\n",
        "data.loc[data['Brand']=='THUẬN PHÁT', 'Brand']='Thuận Phát'\n",
        "data.loc[data['Brand']=='TINH NGUYÊN', 'Brand']='Tinh Nguyên'\n",
        "data.loc[data['Brand']=='THÍCH CAY', 'Brand']='Thích Cay'"
      ]
    },
    {
      "cell_type": "code",
      "execution_count": null,
      "id": "5b182198-c945-4973-a346-d437bf434d4e",
      "metadata": {
        "id": "5b182198-c945-4973-a346-d437bf434d4e"
      },
      "outputs": [],
      "source": [
        "data.loc[[9], 'Brand']='Thuận Phát'\n",
        "data.loc[[164, 175, 193], 'Brand'] = 'Thích Cay'"
      ]
    },
    {
      "cell_type": "code",
      "execution_count": null,
      "id": "dda6e012-955e-44bb-98e1-c6c55bf527c5",
      "metadata": {
        "id": "dda6e012-955e-44bb-98e1-c6c55bf527c5",
        "outputId": "4ff4efe0-60eb-4e8d-c8a7-d45f99f05ee0"
      },
      "outputs": [
        {
          "data": {
            "text/html": [
              "<div>\n",
              "<style scoped>\n",
              "    .dataframe tbody tr th:only-of-type {\n",
              "        vertical-align: middle;\n",
              "    }\n",
              "\n",
              "    .dataframe tbody tr th {\n",
              "        vertical-align: top;\n",
              "    }\n",
              "\n",
              "    .dataframe thead th {\n",
              "        text-align: right;\n",
              "    }\n",
              "</style>\n",
              "<table border=\"1\" class=\"dataframe\">\n",
              "  <thead>\n",
              "    <tr style=\"text-align: right;\">\n",
              "      <th></th>\n",
              "      <th>STT</th>\n",
              "      <th>Tên sản phẩm</th>\n",
              "      <th>Giá bán</th>\n",
              "      <th>Doanh số 365 ngày gần nhất</th>\n",
              "      <th>Sản phẩm đã bán trong khoảng 365 ngày gần nhất</th>\n",
              "      <th>Tổng doanh số</th>\n",
              "      <th>Tổng lượt bán</th>\n",
              "      <th>Tổng đánh giá</th>\n",
              "      <th>Brand</th>\n",
              "    </tr>\n",
              "  </thead>\n",
              "  <tbody>\n",
              "    <tr>\n",
              "      <th>9</th>\n",
              "      <td>10</td>\n",
              "      <td>Combo 4 Nước mắm cá cơm Thuận Phát 40 độ đạm 6...</td>\n",
              "      <td>257000</td>\n",
              "      <td>447466320</td>\n",
              "      <td>1686</td>\n",
              "      <td>535766552</td>\n",
              "      <td>2014</td>\n",
              "      <td>522</td>\n",
              "      <td>Thuận Phát</td>\n",
              "    </tr>\n",
              "    <tr>\n",
              "      <th>164</th>\n",
              "      <td>165</td>\n",
              "      <td>Combo Tiện Lợi - Sa tế sò điệp 250g, Kho quẹt ...</td>\n",
              "      <td>149000</td>\n",
              "      <td>61936100</td>\n",
              "      <td>397</td>\n",
              "      <td>183777970</td>\n",
              "      <td>1179</td>\n",
              "      <td>314</td>\n",
              "      <td>Thích Cay</td>\n",
              "    </tr>\n",
              "    <tr>\n",
              "      <th>175</th>\n",
              "      <td>176</td>\n",
              "      <td>Sốt me chua cay Thích cay, xào cút lộn, ốc, hả...</td>\n",
              "      <td>68000</td>\n",
              "      <td>58083600</td>\n",
              "      <td>755</td>\n",
              "      <td>109532300</td>\n",
              "      <td>1417</td>\n",
              "      <td>312</td>\n",
              "      <td>Thích Cay</td>\n",
              "    </tr>\n",
              "    <tr>\n",
              "      <th>193</th>\n",
              "      <td>194</td>\n",
              "      <td>Nước Chấm Muối Ớt Xanh Thích Cay 250ml Nước Ch...</td>\n",
              "      <td>59000</td>\n",
              "      <td>51727010</td>\n",
              "      <td>880</td>\n",
              "      <td>251364925</td>\n",
              "      <td>4309</td>\n",
              "      <td>1154</td>\n",
              "      <td>Thích Cay</td>\n",
              "    </tr>\n",
              "  </tbody>\n",
              "</table>\n",
              "</div>"
            ],
            "text/plain": [
              "     STT                                       Tên sản phẩm  Giá bán  \\\n",
              "9     10  Combo 4 Nước mắm cá cơm Thuận Phát 40 độ đạm 6...   257000   \n",
              "164  165  Combo Tiện Lợi - Sa tế sò điệp 250g, Kho quẹt ...   149000   \n",
              "175  176  Sốt me chua cay Thích cay, xào cút lộn, ốc, hả...    68000   \n",
              "193  194  Nước Chấm Muối Ớt Xanh Thích Cay 250ml Nước Ch...    59000   \n",
              "\n",
              "    Doanh số 365 ngày gần nhất  \\\n",
              "9                    447466320   \n",
              "164                   61936100   \n",
              "175                   58083600   \n",
              "193                   51727010   \n",
              "\n",
              "     Sản phẩm đã bán trong khoảng 365 ngày gần nhất  Tổng doanh số  \\\n",
              "9                                              1686      535766552   \n",
              "164                                             397      183777970   \n",
              "175                                             755      109532300   \n",
              "193                                             880      251364925   \n",
              "\n",
              "     Tổng lượt bán  Tổng đánh giá       Brand  \n",
              "9             2014            522  Thuận Phát  \n",
              "164           1179            314   Thích Cay  \n",
              "175           1417            312   Thích Cay  \n",
              "193           4309           1154   Thích Cay  "
            ]
          },
          "execution_count": 8,
          "metadata": {},
          "output_type": "execute_result"
        }
      ],
      "source": [
        "data.loc[[9,164,175,193]]"
      ]
    },
    {
      "cell_type": "code",
      "execution_count": null,
      "id": "b78bb35b-c843-43b2-9868-8a566ae71869",
      "metadata": {
        "scrolled": true,
        "id": "b78bb35b-c843-43b2-9868-8a566ae71869",
        "outputId": "df2b598a-e940-42ca-924e-11c4b6e7faa1"
      },
      "outputs": [
        {
          "data": {
            "text/plain": [
              "array([\"O'food\", 'Thích Cay', 'Nước Mắm Tĩn', 'Làng Chài Xưa', 'Ottogi',\n",
              "       'I-soup', 'Thuận Phát', 'Cholimex', 'Vipep', 'Lee Kum Kee',\n",
              "       'Barona', 'Dh Foods', 'Tinh Nguyên', 'I-Ya.ua', 'Ông Chà Và',\n",
              "       'Seaspimex Since 1993'], dtype=object)"
            ]
          },
          "execution_count": 9,
          "metadata": {},
          "output_type": "execute_result"
        }
      ],
      "source": [
        "brands = data['Brand'].unique()\n",
        "brands"
      ]
    },
    {
      "cell_type": "markdown",
      "id": "0ad1e289-c2a3-457e-a1f1-c2baf3a21932",
      "metadata": {
        "id": "0ad1e289-c2a3-457e-a1f1-c2baf3a21932"
      },
      "source": [
        "### Xử lí cột Doanh số 365\n",
        "- do dtype của cột ngay từ ban đầu không phải là int và là object"
      ]
    },
    {
      "cell_type": "code",
      "execution_count": null,
      "id": "8415c234-b654-4a7a-8f14-cdbe975ceb46",
      "metadata": {
        "id": "8415c234-b654-4a7a-8f14-cdbe975ceb46"
      },
      "outputs": [],
      "source": [
        "def clean_price(price):\n",
        "    price_str = str(price)  # Chuyển giá trị sang chuỗi\n",
        "    if '₫' in price_str:\n",
        "        return re.sub(r'\\.(?=\\d)', '', price_str.split('₫')[0])\n",
        "    return price_str"
      ]
    },
    {
      "cell_type": "code",
      "execution_count": null,
      "id": "c1178b42-8273-4cad-a55d-3954706fda83",
      "metadata": {
        "id": "c1178b42-8273-4cad-a55d-3954706fda83",
        "outputId": "54e84890-5979-45af-b660-4a0863a65447"
      },
      "outputs": [
        {
          "data": {
            "text/html": [
              "<div>\n",
              "<style scoped>\n",
              "    .dataframe tbody tr th:only-of-type {\n",
              "        vertical-align: middle;\n",
              "    }\n",
              "\n",
              "    .dataframe tbody tr th {\n",
              "        vertical-align: top;\n",
              "    }\n",
              "\n",
              "    .dataframe thead th {\n",
              "        text-align: right;\n",
              "    }\n",
              "</style>\n",
              "<table border=\"1\" class=\"dataframe\">\n",
              "  <thead>\n",
              "    <tr style=\"text-align: right;\">\n",
              "      <th></th>\n",
              "      <th>STT</th>\n",
              "      <th>Tên sản phẩm</th>\n",
              "      <th>Giá bán</th>\n",
              "      <th>Doanh số 365 ngày gần nhất</th>\n",
              "      <th>Sản phẩm đã bán trong khoảng 365 ngày gần nhất</th>\n",
              "      <th>Tổng doanh số</th>\n",
              "      <th>Tổng lượt bán</th>\n",
              "      <th>Tổng đánh giá</th>\n",
              "      <th>Brand</th>\n",
              "    </tr>\n",
              "  </thead>\n",
              "  <tbody>\n",
              "    <tr>\n",
              "      <th>110</th>\n",
              "      <td>111</td>\n",
              "      <td>[Combo 3 Chai] Nước Mắm Nhỉ Làng Chài Xưa Cá C...</td>\n",
              "      <td>119000</td>\n",
              "      <td>95.711.600₫79%</td>\n",
              "      <td>744</td>\n",
              "      <td>156086600</td>\n",
              "      <td>1213</td>\n",
              "      <td>431</td>\n",
              "      <td>Làng Chài Xưa</td>\n",
              "    </tr>\n",
              "    <tr>\n",
              "      <th>117</th>\n",
              "      <td>118</td>\n",
              "      <td>[Date mới] Nước mắm nhỉ cá cơm than Làng Chài ...</td>\n",
              "      <td>37000</td>\n",
              "      <td>89.794.000₫0%</td>\n",
              "      <td>237</td>\n",
              "      <td>205794000</td>\n",
              "      <td>5430</td>\n",
              "      <td>1144</td>\n",
              "      <td>Làng Chài Xưa</td>\n",
              "    </tr>\n",
              "    <tr>\n",
              "      <th>118</th>\n",
              "      <td>119</td>\n",
              "      <td>Nước tương Hương Việt Hảo Vị 7ml (01 túi gồm 5...</td>\n",
              "      <td>20700</td>\n",
              "      <td>88.398.200₫541%</td>\n",
              "      <td>38455</td>\n",
              "      <td>102857200</td>\n",
              "      <td>4474</td>\n",
              "      <td>316</td>\n",
              "      <td>Cholimex</td>\n",
              "    </tr>\n",
              "    <tr>\n",
              "      <th>126</th>\n",
              "      <td>127</td>\n",
              "      <td>Thùng 6 chai nước mắm nhỉ cá cơm ruột đỏ Làng ...</td>\n",
              "      <td>228000</td>\n",
              "      <td>85.545.000₫96%</td>\n",
              "      <td>358</td>\n",
              "      <td>180085600</td>\n",
              "      <td>752</td>\n",
              "      <td>252</td>\n",
              "      <td>Làng Chài Xưa</td>\n",
              "    </tr>\n",
              "    <tr>\n",
              "      <th>127</th>\n",
              "      <td>128</td>\n",
              "      <td>Sốt bò kho, bò sốt vang O'food gói 50g</td>\n",
              "      <td>11000</td>\n",
              "      <td>85.459.500₫17%</td>\n",
              "      <td>7764</td>\n",
              "      <td>179178500</td>\n",
              "      <td>16272</td>\n",
              "      <td>2717</td>\n",
              "      <td>O'food</td>\n",
              "    </tr>\n",
              "    <tr>\n",
              "      <th>137</th>\n",
              "      <td>138</td>\n",
              "      <td>Combo Mì Ý 500g &amp; Sốt Spaghetti Ottogi 220g</td>\n",
              "      <td>69466</td>\n",
              "      <td>79.347.236₫15%</td>\n",
              "      <td>1160</td>\n",
              "      <td>235330088</td>\n",
              "      <td>3479</td>\n",
              "      <td>911</td>\n",
              "      <td>Ottogi</td>\n",
              "    </tr>\n",
              "    <tr>\n",
              "      <th>139</th>\n",
              "      <td>140</td>\n",
              "      <td>Sa tế sò điệp Thích Cay 150g dùng trộn mì, hủ ...</td>\n",
              "      <td>59000</td>\n",
              "      <td>78.468.000₫79%</td>\n",
              "      <td>1258</td>\n",
              "      <td>122127500</td>\n",
              "      <td>2037</td>\n",
              "      <td>526</td>\n",
              "      <td>Thích Cay</td>\n",
              "    </tr>\n",
              "    <tr>\n",
              "      <th>145</th>\n",
              "      <td>146</td>\n",
              "      <td>Hộp quà gia vị Dh Foods (có thể đóng theo yêu ...</td>\n",
              "      <td>172000</td>\n",
              "      <td>72.258.488₫14%</td>\n",
              "      <td>395</td>\n",
              "      <td>171144235</td>\n",
              "      <td>884</td>\n",
              "      <td>158</td>\n",
              "      <td>Dh Foods</td>\n",
              "    </tr>\n",
              "    <tr>\n",
              "      <th>151</th>\n",
              "      <td>152</td>\n",
              "      <td>Ớt khô sa tế Cholimex hũ TT 100g</td>\n",
              "      <td>16200</td>\n",
              "      <td>68.479.200₫295%</td>\n",
              "      <td>39083</td>\n",
              "      <td>94455200</td>\n",
              "      <td>5393</td>\n",
              "      <td>564</td>\n",
              "      <td>Cholimex</td>\n",
              "    </tr>\n",
              "    <tr>\n",
              "      <th>162</th>\n",
              "      <td>163</td>\n",
              "      <td>Bột sả nguyên chất Natural DH Foods chế biến t...</td>\n",
              "      <td>17292</td>\n",
              "      <td>62.658.216₫29%</td>\n",
              "      <td>4161</td>\n",
              "      <td>137802095</td>\n",
              "      <td>9169</td>\n",
              "      <td>1866</td>\n",
              "      <td>Dh Foods</td>\n",
              "    </tr>\n",
              "    <tr>\n",
              "      <th>180</th>\n",
              "      <td>181</td>\n",
              "      <td>Xốt Muối Kim Chi Hàn Quốc Barona 2 gói x 180g ...</td>\n",
              "      <td>73000</td>\n",
              "      <td>56.032.000₫14%</td>\n",
              "      <td>768</td>\n",
              "      <td>467841600</td>\n",
              "      <td>6582</td>\n",
              "      <td>2141</td>\n",
              "      <td>Barona</td>\n",
              "    </tr>\n",
              "    <tr>\n",
              "      <th>196</th>\n",
              "      <td>197</td>\n",
              "      <td>[01 Chai Cá vàng - 60N - 500ml] Nước Mắm Tĩn C...</td>\n",
              "      <td>218000</td>\n",
              "      <td>50.354.000₫15%</td>\n",
              "      <td>229</td>\n",
              "      <td>95440000</td>\n",
              "      <td>434</td>\n",
              "      <td>87</td>\n",
              "      <td>Nước Mắm Tĩn</td>\n",
              "    </tr>\n",
              "  </tbody>\n",
              "</table>\n",
              "</div>"
            ],
            "text/plain": [
              "     STT                                       Tên sản phẩm  Giá bán  \\\n",
              "110  111  [Combo 3 Chai] Nước Mắm Nhỉ Làng Chài Xưa Cá C...   119000   \n",
              "117  118  [Date mới] Nước mắm nhỉ cá cơm than Làng Chài ...    37000   \n",
              "118  119  Nước tương Hương Việt Hảo Vị 7ml (01 túi gồm 5...    20700   \n",
              "126  127  Thùng 6 chai nước mắm nhỉ cá cơm ruột đỏ Làng ...   228000   \n",
              "127  128             Sốt bò kho, bò sốt vang O'food gói 50g    11000   \n",
              "137  138        Combo Mì Ý 500g & Sốt Spaghetti Ottogi 220g    69466   \n",
              "139  140  Sa tế sò điệp Thích Cay 150g dùng trộn mì, hủ ...    59000   \n",
              "145  146  Hộp quà gia vị Dh Foods (có thể đóng theo yêu ...   172000   \n",
              "151  152                   Ớt khô sa tế Cholimex hũ TT 100g    16200   \n",
              "162  163  Bột sả nguyên chất Natural DH Foods chế biến t...    17292   \n",
              "180  181  Xốt Muối Kim Chi Hàn Quốc Barona 2 gói x 180g ...    73000   \n",
              "196  197  [01 Chai Cá vàng - 60N - 500ml] Nước Mắm Tĩn C...   218000   \n",
              "\n",
              "    Doanh số 365 ngày gần nhất  \\\n",
              "110             95.711.600₫79%   \n",
              "117              89.794.000₫0%   \n",
              "118            88.398.200₫541%   \n",
              "126             85.545.000₫96%   \n",
              "127             85.459.500₫17%   \n",
              "137             79.347.236₫15%   \n",
              "139             78.468.000₫79%   \n",
              "145             72.258.488₫14%   \n",
              "151            68.479.200₫295%   \n",
              "162             62.658.216₫29%   \n",
              "180             56.032.000₫14%   \n",
              "196             50.354.000₫15%   \n",
              "\n",
              "     Sản phẩm đã bán trong khoảng 365 ngày gần nhất  Tổng doanh số  \\\n",
              "110                                             744      156086600   \n",
              "117                                             237      205794000   \n",
              "118                                           38455      102857200   \n",
              "126                                             358      180085600   \n",
              "127                                            7764      179178500   \n",
              "137                                            1160      235330088   \n",
              "139                                            1258      122127500   \n",
              "145                                             395      171144235   \n",
              "151                                           39083       94455200   \n",
              "162                                            4161      137802095   \n",
              "180                                             768      467841600   \n",
              "196                                             229       95440000   \n",
              "\n",
              "     Tổng lượt bán  Tổng đánh giá          Brand  \n",
              "110           1213            431  Làng Chài Xưa  \n",
              "117           5430           1144  Làng Chài Xưa  \n",
              "118           4474            316       Cholimex  \n",
              "126            752            252  Làng Chài Xưa  \n",
              "127          16272           2717         O'food  \n",
              "137           3479            911         Ottogi  \n",
              "139           2037            526      Thích Cay  \n",
              "145            884            158       Dh Foods  \n",
              "151           5393            564       Cholimex  \n",
              "162           9169           1866       Dh Foods  \n",
              "180           6582           2141         Barona  \n",
              "196            434             87   Nước Mắm Tĩn  "
            ]
          },
          "execution_count": 11,
          "metadata": {},
          "output_type": "execute_result"
        }
      ],
      "source": [
        "data[data['Doanh số 365 ngày gần nhất'].str.contains('₫',na=False)]"
      ]
    },
    {
      "cell_type": "code",
      "execution_count": null,
      "id": "d1fb5df8-5905-404b-990b-e95ea89f050a",
      "metadata": {
        "id": "d1fb5df8-5905-404b-990b-e95ea89f050a"
      },
      "outputs": [],
      "source": [
        "import re"
      ]
    },
    {
      "cell_type": "code",
      "execution_count": null,
      "id": "ea647591-9df8-4e2a-aca1-fcccc2db5112",
      "metadata": {
        "id": "ea647591-9df8-4e2a-aca1-fcccc2db5112"
      },
      "outputs": [],
      "source": [
        "data['Doanh số 365 ngày gần nhất'] = data['Doanh số 365 ngày gần nhất'].apply(clean_price)"
      ]
    },
    {
      "cell_type": "code",
      "execution_count": null,
      "id": "78301f5f-2aad-40c1-81e8-cbc8cedd9deb",
      "metadata": {
        "id": "78301f5f-2aad-40c1-81e8-cbc8cedd9deb",
        "outputId": "9275804d-0900-4454-88c7-c6c23235ef2d"
      },
      "outputs": [
        {
          "data": {
            "text/html": [
              "<div>\n",
              "<style scoped>\n",
              "    .dataframe tbody tr th:only-of-type {\n",
              "        vertical-align: middle;\n",
              "    }\n",
              "\n",
              "    .dataframe tbody tr th {\n",
              "        vertical-align: top;\n",
              "    }\n",
              "\n",
              "    .dataframe thead th {\n",
              "        text-align: right;\n",
              "    }\n",
              "</style>\n",
              "<table border=\"1\" class=\"dataframe\">\n",
              "  <thead>\n",
              "    <tr style=\"text-align: right;\">\n",
              "      <th></th>\n",
              "      <th>STT</th>\n",
              "      <th>Tên sản phẩm</th>\n",
              "      <th>Giá bán</th>\n",
              "      <th>Doanh số 365 ngày gần nhất</th>\n",
              "      <th>Sản phẩm đã bán trong khoảng 365 ngày gần nhất</th>\n",
              "      <th>Tổng doanh số</th>\n",
              "      <th>Tổng lượt bán</th>\n",
              "      <th>Tổng đánh giá</th>\n",
              "      <th>Brand</th>\n",
              "    </tr>\n",
              "  </thead>\n",
              "  <tbody>\n",
              "    <tr>\n",
              "      <th>110</th>\n",
              "      <td>111</td>\n",
              "      <td>[Combo 3 Chai] Nước Mắm Nhỉ Làng Chài Xưa Cá C...</td>\n",
              "      <td>119000</td>\n",
              "      <td>95711600</td>\n",
              "      <td>744</td>\n",
              "      <td>156086600</td>\n",
              "      <td>1213</td>\n",
              "      <td>431</td>\n",
              "      <td>Làng Chài Xưa</td>\n",
              "    </tr>\n",
              "    <tr>\n",
              "      <th>117</th>\n",
              "      <td>118</td>\n",
              "      <td>[Date mới] Nước mắm nhỉ cá cơm than Làng Chài ...</td>\n",
              "      <td>37000</td>\n",
              "      <td>89794000</td>\n",
              "      <td>237</td>\n",
              "      <td>205794000</td>\n",
              "      <td>5430</td>\n",
              "      <td>1144</td>\n",
              "      <td>Làng Chài Xưa</td>\n",
              "    </tr>\n",
              "    <tr>\n",
              "      <th>118</th>\n",
              "      <td>119</td>\n",
              "      <td>Nước tương Hương Việt Hảo Vị 7ml (01 túi gồm 5...</td>\n",
              "      <td>20700</td>\n",
              "      <td>88398200</td>\n",
              "      <td>38455</td>\n",
              "      <td>102857200</td>\n",
              "      <td>4474</td>\n",
              "      <td>316</td>\n",
              "      <td>Cholimex</td>\n",
              "    </tr>\n",
              "    <tr>\n",
              "      <th>126</th>\n",
              "      <td>127</td>\n",
              "      <td>Thùng 6 chai nước mắm nhỉ cá cơm ruột đỏ Làng ...</td>\n",
              "      <td>228000</td>\n",
              "      <td>85545000</td>\n",
              "      <td>358</td>\n",
              "      <td>180085600</td>\n",
              "      <td>752</td>\n",
              "      <td>252</td>\n",
              "      <td>Làng Chài Xưa</td>\n",
              "    </tr>\n",
              "    <tr>\n",
              "      <th>127</th>\n",
              "      <td>128</td>\n",
              "      <td>Sốt bò kho, bò sốt vang O'food gói 50g</td>\n",
              "      <td>11000</td>\n",
              "      <td>85459500</td>\n",
              "      <td>7764</td>\n",
              "      <td>179178500</td>\n",
              "      <td>16272</td>\n",
              "      <td>2717</td>\n",
              "      <td>O'food</td>\n",
              "    </tr>\n",
              "    <tr>\n",
              "      <th>137</th>\n",
              "      <td>138</td>\n",
              "      <td>Combo Mì Ý 500g &amp; Sốt Spaghetti Ottogi 220g</td>\n",
              "      <td>69466</td>\n",
              "      <td>79347236</td>\n",
              "      <td>1160</td>\n",
              "      <td>235330088</td>\n",
              "      <td>3479</td>\n",
              "      <td>911</td>\n",
              "      <td>Ottogi</td>\n",
              "    </tr>\n",
              "    <tr>\n",
              "      <th>139</th>\n",
              "      <td>140</td>\n",
              "      <td>Sa tế sò điệp Thích Cay 150g dùng trộn mì, hủ ...</td>\n",
              "      <td>59000</td>\n",
              "      <td>78468000</td>\n",
              "      <td>1258</td>\n",
              "      <td>122127500</td>\n",
              "      <td>2037</td>\n",
              "      <td>526</td>\n",
              "      <td>Thích Cay</td>\n",
              "    </tr>\n",
              "    <tr>\n",
              "      <th>145</th>\n",
              "      <td>146</td>\n",
              "      <td>Hộp quà gia vị Dh Foods (có thể đóng theo yêu ...</td>\n",
              "      <td>172000</td>\n",
              "      <td>72258488</td>\n",
              "      <td>395</td>\n",
              "      <td>171144235</td>\n",
              "      <td>884</td>\n",
              "      <td>158</td>\n",
              "      <td>Dh Foods</td>\n",
              "    </tr>\n",
              "    <tr>\n",
              "      <th>151</th>\n",
              "      <td>152</td>\n",
              "      <td>Ớt khô sa tế Cholimex hũ TT 100g</td>\n",
              "      <td>16200</td>\n",
              "      <td>68479200</td>\n",
              "      <td>39083</td>\n",
              "      <td>94455200</td>\n",
              "      <td>5393</td>\n",
              "      <td>564</td>\n",
              "      <td>Cholimex</td>\n",
              "    </tr>\n",
              "    <tr>\n",
              "      <th>162</th>\n",
              "      <td>163</td>\n",
              "      <td>Bột sả nguyên chất Natural DH Foods chế biến t...</td>\n",
              "      <td>17292</td>\n",
              "      <td>62658216</td>\n",
              "      <td>4161</td>\n",
              "      <td>137802095</td>\n",
              "      <td>9169</td>\n",
              "      <td>1866</td>\n",
              "      <td>Dh Foods</td>\n",
              "    </tr>\n",
              "    <tr>\n",
              "      <th>180</th>\n",
              "      <td>181</td>\n",
              "      <td>Xốt Muối Kim Chi Hàn Quốc Barona 2 gói x 180g ...</td>\n",
              "      <td>73000</td>\n",
              "      <td>56032000</td>\n",
              "      <td>768</td>\n",
              "      <td>467841600</td>\n",
              "      <td>6582</td>\n",
              "      <td>2141</td>\n",
              "      <td>Barona</td>\n",
              "    </tr>\n",
              "    <tr>\n",
              "      <th>196</th>\n",
              "      <td>197</td>\n",
              "      <td>[01 Chai Cá vàng - 60N - 500ml] Nước Mắm Tĩn C...</td>\n",
              "      <td>218000</td>\n",
              "      <td>50354000</td>\n",
              "      <td>229</td>\n",
              "      <td>95440000</td>\n",
              "      <td>434</td>\n",
              "      <td>87</td>\n",
              "      <td>Nước Mắm Tĩn</td>\n",
              "    </tr>\n",
              "  </tbody>\n",
              "</table>\n",
              "</div>"
            ],
            "text/plain": [
              "     STT                                       Tên sản phẩm  Giá bán  \\\n",
              "110  111  [Combo 3 Chai] Nước Mắm Nhỉ Làng Chài Xưa Cá C...   119000   \n",
              "117  118  [Date mới] Nước mắm nhỉ cá cơm than Làng Chài ...    37000   \n",
              "118  119  Nước tương Hương Việt Hảo Vị 7ml (01 túi gồm 5...    20700   \n",
              "126  127  Thùng 6 chai nước mắm nhỉ cá cơm ruột đỏ Làng ...   228000   \n",
              "127  128             Sốt bò kho, bò sốt vang O'food gói 50g    11000   \n",
              "137  138        Combo Mì Ý 500g & Sốt Spaghetti Ottogi 220g    69466   \n",
              "139  140  Sa tế sò điệp Thích Cay 150g dùng trộn mì, hủ ...    59000   \n",
              "145  146  Hộp quà gia vị Dh Foods (có thể đóng theo yêu ...   172000   \n",
              "151  152                   Ớt khô sa tế Cholimex hũ TT 100g    16200   \n",
              "162  163  Bột sả nguyên chất Natural DH Foods chế biến t...    17292   \n",
              "180  181  Xốt Muối Kim Chi Hàn Quốc Barona 2 gói x 180g ...    73000   \n",
              "196  197  [01 Chai Cá vàng - 60N - 500ml] Nước Mắm Tĩn C...   218000   \n",
              "\n",
              "    Doanh số 365 ngày gần nhất  \\\n",
              "110                   95711600   \n",
              "117                   89794000   \n",
              "118                   88398200   \n",
              "126                   85545000   \n",
              "127                   85459500   \n",
              "137                   79347236   \n",
              "139                   78468000   \n",
              "145                   72258488   \n",
              "151                   68479200   \n",
              "162                   62658216   \n",
              "180                   56032000   \n",
              "196                   50354000   \n",
              "\n",
              "     Sản phẩm đã bán trong khoảng 365 ngày gần nhất  Tổng doanh số  \\\n",
              "110                                             744      156086600   \n",
              "117                                             237      205794000   \n",
              "118                                           38455      102857200   \n",
              "126                                             358      180085600   \n",
              "127                                            7764      179178500   \n",
              "137                                            1160      235330088   \n",
              "139                                            1258      122127500   \n",
              "145                                             395      171144235   \n",
              "151                                           39083       94455200   \n",
              "162                                            4161      137802095   \n",
              "180                                             768      467841600   \n",
              "196                                             229       95440000   \n",
              "\n",
              "     Tổng lượt bán  Tổng đánh giá          Brand  \n",
              "110           1213            431  Làng Chài Xưa  \n",
              "117           5430           1144  Làng Chài Xưa  \n",
              "118           4474            316       Cholimex  \n",
              "126            752            252  Làng Chài Xưa  \n",
              "127          16272           2717         O'food  \n",
              "137           3479            911         Ottogi  \n",
              "139           2037            526      Thích Cay  \n",
              "145            884            158       Dh Foods  \n",
              "151           5393            564       Cholimex  \n",
              "162           9169           1866       Dh Foods  \n",
              "180           6582           2141         Barona  \n",
              "196            434             87   Nước Mắm Tĩn  "
            ]
          },
          "execution_count": 14,
          "metadata": {},
          "output_type": "execute_result"
        }
      ],
      "source": [
        "data.loc[[110,117,118,126,127,137,139,145,151,162,180,196]]"
      ]
    },
    {
      "cell_type": "code",
      "execution_count": null,
      "id": "8d6f972d-387f-4a44-a6b5-25a058eccc07",
      "metadata": {
        "id": "8d6f972d-387f-4a44-a6b5-25a058eccc07",
        "outputId": "4b74b20c-1a33-49eb-c819-eeb0b70ac944"
      },
      "outputs": [
        {
          "data": {
            "text/html": [
              "<div>\n",
              "<style scoped>\n",
              "    .dataframe tbody tr th:only-of-type {\n",
              "        vertical-align: middle;\n",
              "    }\n",
              "\n",
              "    .dataframe tbody tr th {\n",
              "        vertical-align: top;\n",
              "    }\n",
              "\n",
              "    .dataframe thead th {\n",
              "        text-align: right;\n",
              "    }\n",
              "</style>\n",
              "<table border=\"1\" class=\"dataframe\">\n",
              "  <thead>\n",
              "    <tr style=\"text-align: right;\">\n",
              "      <th></th>\n",
              "      <th>STT</th>\n",
              "      <th>Tên sản phẩm</th>\n",
              "      <th>Giá bán</th>\n",
              "      <th>Doanh số 365 ngày gần nhất</th>\n",
              "      <th>Sản phẩm đã bán trong khoảng 365 ngày gần nhất</th>\n",
              "      <th>Tổng doanh số</th>\n",
              "      <th>Tổng lượt bán</th>\n",
              "      <th>Tổng đánh giá</th>\n",
              "      <th>Brand</th>\n",
              "    </tr>\n",
              "  </thead>\n",
              "  <tbody>\n",
              "  </tbody>\n",
              "</table>\n",
              "</div>"
            ],
            "text/plain": [
              "Empty DataFrame\n",
              "Columns: [STT, Tên sản phẩm, Giá bán, Doanh số 365 ngày gần nhất, Sản phẩm đã bán trong khoảng 365 ngày gần nhất, Tổng doanh số, Tổng lượt bán, Tổng đánh giá, Brand]\n",
              "Index: []"
            ]
          },
          "execution_count": 15,
          "metadata": {},
          "output_type": "execute_result"
        }
      ],
      "source": [
        "data[data['Doanh số 365 ngày gần nhất'].str.contains('₫',na=False)]"
      ]
    },
    {
      "cell_type": "code",
      "execution_count": null,
      "id": "3863e4fd-8e45-4a8f-86a7-0738a4caff79",
      "metadata": {
        "id": "3863e4fd-8e45-4a8f-86a7-0738a4caff79"
      },
      "outputs": [],
      "source": [
        "data['Doanh số 365 ngày gần nhất'] = data['Doanh số 365 ngày gần nhất'].astype(int)"
      ]
    },
    {
      "cell_type": "markdown",
      "id": "c5d7f4f5-bda5-4c5e-90e1-6b22065ea8a9",
      "metadata": {
        "id": "c5d7f4f5-bda5-4c5e-90e1-6b22065ea8a9"
      },
      "source": [
        "### Tạo cột Package Type"
      ]
    },
    {
      "cell_type": "code",
      "execution_count": null,
      "id": "ebfaacb4-36ab-4ac6-98f9-ea49381f07db",
      "metadata": {
        "id": "ebfaacb4-36ab-4ac6-98f9-ea49381f07db"
      },
      "outputs": [],
      "source": [
        "# Cập nhật cột 'Package Type'\n",
        "data['Package Type'] = data['Tên sản phẩm'].apply(\n",
        "    lambda x: 'Combo' if any(keyword in x.lower() for keyword in ['combo', 'thùng', 'bộ', 'cặp', 'lốc', '5 gói', '6 gói']) else 'Single'\n",
        ")"
      ]
    },
    {
      "cell_type": "code",
      "execution_count": null,
      "id": "e9f207a0-55ab-4f87-b824-f194556a02c2",
      "metadata": {
        "id": "e9f207a0-55ab-4f87-b824-f194556a02c2",
        "outputId": "007c9b56-9ab4-4206-9478-090b45a0c9de"
      },
      "outputs": [
        {
          "data": {
            "text/html": [
              "<div>\n",
              "<style scoped>\n",
              "    .dataframe tbody tr th:only-of-type {\n",
              "        vertical-align: middle;\n",
              "    }\n",
              "\n",
              "    .dataframe tbody tr th {\n",
              "        vertical-align: top;\n",
              "    }\n",
              "\n",
              "    .dataframe thead th {\n",
              "        text-align: right;\n",
              "    }\n",
              "</style>\n",
              "<table border=\"1\" class=\"dataframe\">\n",
              "  <thead>\n",
              "    <tr style=\"text-align: right;\">\n",
              "      <th></th>\n",
              "      <th>Tên sản phẩm</th>\n",
              "      <th>Package Type</th>\n",
              "    </tr>\n",
              "  </thead>\n",
              "  <tbody>\n",
              "    <tr>\n",
              "      <th>0</th>\n",
              "      <td>[Tặng hộp hoặc sốt] Combo 3 gói sốt muối kim c...</td>\n",
              "      <td>Combo</td>\n",
              "    </tr>\n",
              "    <tr>\n",
              "      <th>1</th>\n",
              "      <td>Sa Tế Sò Điệp Thích Cay Sốt Trộn Mì, Hủ Tiếu, ...</td>\n",
              "      <td>Single</td>\n",
              "    </tr>\n",
              "    <tr>\n",
              "      <th>2</th>\n",
              "      <td>Nước Mắm Tĩn Nhãn Đỏ Độ Đạm 40N Cặp 2 Chai Thủ...</td>\n",
              "      <td>Combo</td>\n",
              "    </tr>\n",
              "    <tr>\n",
              "      <th>3</th>\n",
              "      <td>Mắm nêm pha sẵn cao cấp Làng Chài Xưa, nguyên ...</td>\n",
              "      <td>Single</td>\n",
              "    </tr>\n",
              "    <tr>\n",
              "      <th>4</th>\n",
              "      <td>Sốt Gà Rán Ottogi Chai 2.4KG</td>\n",
              "      <td>Single</td>\n",
              "    </tr>\n",
              "    <tr>\n",
              "      <th>...</th>\n",
              "      <td>...</td>\n",
              "      <td>...</td>\n",
              "    </tr>\n",
              "    <tr>\n",
              "      <th>195</th>\n",
              "      <td>Combo 4 Loại Natural Gia Vị Nấu Phở, Bún Dh Fo...</td>\n",
              "      <td>Combo</td>\n",
              "    </tr>\n",
              "    <tr>\n",
              "      <th>196</th>\n",
              "      <td>[01 Chai Cá vàng - 60N - 500ml] Nước Mắm Tĩn C...</td>\n",
              "      <td>Single</td>\n",
              "    </tr>\n",
              "    <tr>\n",
              "      <th>197</th>\n",
              "      <td>01 BÌNH GỐM 60 ĐẠM Nước mắm Tĩn cá cơm ruột đỏ...</td>\n",
              "      <td>Single</td>\n",
              "    </tr>\n",
              "    <tr>\n",
              "      <th>198</th>\n",
              "      <td>Bột tương đen Ottogi 1kg VN</td>\n",
              "      <td>Combo</td>\n",
              "    </tr>\n",
              "    <tr>\n",
              "      <th>199</th>\n",
              "      <td>Bánh phồng tôm Ấn Độ Pani Puri 100g hình quả b...</td>\n",
              "      <td>Single</td>\n",
              "    </tr>\n",
              "  </tbody>\n",
              "</table>\n",
              "<p>200 rows × 2 columns</p>\n",
              "</div>"
            ],
            "text/plain": [
              "                                          Tên sản phẩm Package Type\n",
              "0    [Tặng hộp hoặc sốt] Combo 3 gói sốt muối kim c...        Combo\n",
              "1    Sa Tế Sò Điệp Thích Cay Sốt Trộn Mì, Hủ Tiếu, ...       Single\n",
              "2    Nước Mắm Tĩn Nhãn Đỏ Độ Đạm 40N Cặp 2 Chai Thủ...        Combo\n",
              "3    Mắm nêm pha sẵn cao cấp Làng Chài Xưa, nguyên ...       Single\n",
              "4                         Sốt Gà Rán Ottogi Chai 2.4KG       Single\n",
              "..                                                 ...          ...\n",
              "195  Combo 4 Loại Natural Gia Vị Nấu Phở, Bún Dh Fo...        Combo\n",
              "196  [01 Chai Cá vàng - 60N - 500ml] Nước Mắm Tĩn C...       Single\n",
              "197  01 BÌNH GỐM 60 ĐẠM Nước mắm Tĩn cá cơm ruột đỏ...       Single\n",
              "198                        Bột tương đen Ottogi 1kg VN        Combo\n",
              "199  Bánh phồng tôm Ấn Độ Pani Puri 100g hình quả b...       Single\n",
              "\n",
              "[200 rows x 2 columns]"
            ]
          },
          "execution_count": 18,
          "metadata": {},
          "output_type": "execute_result"
        }
      ],
      "source": [
        "data[['Tên sản phẩm', 'Package Type']]"
      ]
    },
    {
      "cell_type": "code",
      "execution_count": null,
      "id": "4bb9f238-e4c1-46f7-afcc-7f7dbc521f91",
      "metadata": {
        "scrolled": true,
        "id": "4bb9f238-e4c1-46f7-afcc-7f7dbc521f91",
        "outputId": "9393d7b9-88fa-4d65-e302-b049cb903383"
      },
      "outputs": [
        {
          "data": {
            "text/plain": [
              "STT                                               71\n",
              "Tên sản phẩm                                      71\n",
              "Giá bán                                           71\n",
              "Doanh số 365 ngày gần nhất                        71\n",
              "Sản phẩm đã bán trong khoảng 365 ngày gần nhất    71\n",
              "Tổng doanh số                                     71\n",
              "Tổng lượt bán                                     71\n",
              "Tổng đánh giá                                     71\n",
              "Brand                                             71\n",
              "Package Type                                      71\n",
              "dtype: int64"
            ]
          },
          "execution_count": 19,
          "metadata": {},
          "output_type": "execute_result"
        }
      ],
      "source": [
        "data[data['Package Type'] == 'Combo'].count()"
      ]
    },
    {
      "cell_type": "markdown",
      "id": "9ab8f435-cbb2-46b4-b584-4a7f2847d012",
      "metadata": {
        "id": "9ab8f435-cbb2-46b4-b584-4a7f2847d012"
      },
      "source": [
        "### Tạo Product Category"
      ]
    },
    {
      "cell_type": "code",
      "execution_count": null,
      "id": "bcb80bcc-6428-4a3a-9d2b-e6700fb3cda5",
      "metadata": {
        "id": "bcb80bcc-6428-4a3a-9d2b-e6700fb3cda5"
      },
      "outputs": [],
      "source": [
        "categories = {\n",
        "    'Nước mắm': ['nước mắm', 'nước chấm cá'],\n",
        "    'Tương chấm': ['tương ớt', 'tương cà', 'tương ăn phở'],\n",
        "    'Nước chấm khác': ['mắm nêm','chao'],\n",
        "    'Nước tương': ['nước tương', 'xì dầu'],\n",
        "    'Sốt': ['xốt ướp','xốt', 'sốt', 'spaghetti', 'sa tế sò điệp', 'lẩu'],\n",
        "    'Gia vị': ['bột', 'gia vị', 'muối', 'dầu hào', 'dầu', 'sa tế', 'ớt'],\n",
        "    'Nước dùng': ['nước dùng lẩu', 'nước dùng phở', 'canh'],\n",
        "    'Khác': ['mì ý spaghetti', 'mì']\n",
        "}"
      ]
    },
    {
      "cell_type": "code",
      "execution_count": null,
      "id": "14ee2a50-6f49-4ae4-b715-7da2248b7b2b",
      "metadata": {
        "id": "14ee2a50-6f49-4ae4-b715-7da2248b7b2b"
      },
      "outputs": [],
      "source": [
        "def categorize_product(name):\n",
        "    for category, keywords in categories.items():\n",
        "        if any(keyword in name.lower() for keyword in keywords):\n",
        "            return category\n",
        "    return 'Khác'"
      ]
    },
    {
      "cell_type": "code",
      "execution_count": null,
      "id": "9a23c947-21ce-4e77-b491-1d1d663b078b",
      "metadata": {
        "id": "9a23c947-21ce-4e77-b491-1d1d663b078b"
      },
      "outputs": [],
      "source": [
        "data['Danh mục sản phẩm'] = data['Tên sản phẩm'].apply(categorize_product)"
      ]
    },
    {
      "cell_type": "code",
      "execution_count": null,
      "id": "b62ed060-c80d-4288-93c3-60c2bdfd1008",
      "metadata": {
        "id": "b62ed060-c80d-4288-93c3-60c2bdfd1008",
        "outputId": "20008dd9-68c2-4197-8bbe-fa7615b9a7f1"
      },
      "outputs": [
        {
          "data": {
            "text/html": [
              "<div>\n",
              "<style scoped>\n",
              "    .dataframe tbody tr th:only-of-type {\n",
              "        vertical-align: middle;\n",
              "    }\n",
              "\n",
              "    .dataframe tbody tr th {\n",
              "        vertical-align: top;\n",
              "    }\n",
              "\n",
              "    .dataframe thead th {\n",
              "        text-align: right;\n",
              "    }\n",
              "</style>\n",
              "<table border=\"1\" class=\"dataframe\">\n",
              "  <thead>\n",
              "    <tr style=\"text-align: right;\">\n",
              "      <th></th>\n",
              "      <th>Tên sản phẩm</th>\n",
              "      <th>Danh mục sản phẩm</th>\n",
              "    </tr>\n",
              "  </thead>\n",
              "  <tbody>\n",
              "    <tr>\n",
              "      <th>0</th>\n",
              "      <td>[Tặng hộp hoặc sốt] Combo 3 gói sốt muối kim c...</td>\n",
              "      <td>Sốt</td>\n",
              "    </tr>\n",
              "    <tr>\n",
              "      <th>1</th>\n",
              "      <td>Sa Tế Sò Điệp Thích Cay Sốt Trộn Mì, Hủ Tiếu, ...</td>\n",
              "      <td>Sốt</td>\n",
              "    </tr>\n",
              "    <tr>\n",
              "      <th>2</th>\n",
              "      <td>Nước Mắm Tĩn Nhãn Đỏ Độ Đạm 40N Cặp 2 Chai Thủ...</td>\n",
              "      <td>Nước mắm</td>\n",
              "    </tr>\n",
              "    <tr>\n",
              "      <th>3</th>\n",
              "      <td>Mắm nêm pha sẵn cao cấp Làng Chài Xưa, nguyên ...</td>\n",
              "      <td>Nước chấm khác</td>\n",
              "    </tr>\n",
              "    <tr>\n",
              "      <th>4</th>\n",
              "      <td>Sốt Gà Rán Ottogi Chai 2.4KG</td>\n",
              "      <td>Sốt</td>\n",
              "    </tr>\n",
              "    <tr>\n",
              "      <th>...</th>\n",
              "      <td>...</td>\n",
              "      <td>...</td>\n",
              "    </tr>\n",
              "    <tr>\n",
              "      <th>195</th>\n",
              "      <td>Combo 4 Loại Natural Gia Vị Nấu Phở, Bún Dh Fo...</td>\n",
              "      <td>Gia vị</td>\n",
              "    </tr>\n",
              "    <tr>\n",
              "      <th>196</th>\n",
              "      <td>[01 Chai Cá vàng - 60N - 500ml] Nước Mắm Tĩn C...</td>\n",
              "      <td>Nước mắm</td>\n",
              "    </tr>\n",
              "    <tr>\n",
              "      <th>197</th>\n",
              "      <td>01 BÌNH GỐM 60 ĐẠM Nước mắm Tĩn cá cơm ruột đỏ...</td>\n",
              "      <td>Nước mắm</td>\n",
              "    </tr>\n",
              "    <tr>\n",
              "      <th>198</th>\n",
              "      <td>Bột tương đen Ottogi 1kg VN</td>\n",
              "      <td>Gia vị</td>\n",
              "    </tr>\n",
              "    <tr>\n",
              "      <th>199</th>\n",
              "      <td>Bánh phồng tôm Ấn Độ Pani Puri 100g hình quả b...</td>\n",
              "      <td>Khác</td>\n",
              "    </tr>\n",
              "  </tbody>\n",
              "</table>\n",
              "<p>200 rows × 2 columns</p>\n",
              "</div>"
            ],
            "text/plain": [
              "                                          Tên sản phẩm Danh mục sản phẩm\n",
              "0    [Tặng hộp hoặc sốt] Combo 3 gói sốt muối kim c...               Sốt\n",
              "1    Sa Tế Sò Điệp Thích Cay Sốt Trộn Mì, Hủ Tiếu, ...               Sốt\n",
              "2    Nước Mắm Tĩn Nhãn Đỏ Độ Đạm 40N Cặp 2 Chai Thủ...          Nước mắm\n",
              "3    Mắm nêm pha sẵn cao cấp Làng Chài Xưa, nguyên ...    Nước chấm khác\n",
              "4                         Sốt Gà Rán Ottogi Chai 2.4KG               Sốt\n",
              "..                                                 ...               ...\n",
              "195  Combo 4 Loại Natural Gia Vị Nấu Phở, Bún Dh Fo...            Gia vị\n",
              "196  [01 Chai Cá vàng - 60N - 500ml] Nước Mắm Tĩn C...          Nước mắm\n",
              "197  01 BÌNH GỐM 60 ĐẠM Nước mắm Tĩn cá cơm ruột đỏ...          Nước mắm\n",
              "198                        Bột tương đen Ottogi 1kg VN            Gia vị\n",
              "199  Bánh phồng tôm Ấn Độ Pani Puri 100g hình quả b...              Khác\n",
              "\n",
              "[200 rows x 2 columns]"
            ]
          },
          "execution_count": 23,
          "metadata": {},
          "output_type": "execute_result"
        }
      ],
      "source": [
        "data[['Tên sản phẩm', 'Danh mục sản phẩm']]"
      ]
    },
    {
      "cell_type": "code",
      "execution_count": null,
      "id": "1caa3caa-c684-4603-b400-465b815588c0",
      "metadata": {
        "id": "1caa3caa-c684-4603-b400-465b815588c0",
        "outputId": "d5b1c9d5-95ce-4df7-c671-105916a3674f"
      },
      "outputs": [
        {
          "data": {
            "text/plain": [
              "STT                                                                          34\n",
              "Tên sản phẩm                                      Sốt Spaghetti O'Food gói 120g\n",
              "Giá bán                                                                   20000\n",
              "Doanh số 365 ngày gần nhất                                            213304000\n",
              "Sản phẩm đã bán trong khoảng 365 ngày gần nhất                            12491\n",
              "Tổng doanh số                                                         338010100\n",
              "Tổng lượt bán                                                             19887\n",
              "Tổng đánh giá                                                              2497\n",
              "Brand                                                                    O'food\n",
              "Package Type                                                             Single\n",
              "Danh mục sản phẩm                                                           Sốt\n",
              "Name: 33, dtype: object"
            ]
          },
          "execution_count": 24,
          "metadata": {},
          "output_type": "execute_result"
        }
      ],
      "source": [
        "data.loc[33]"
      ]
    },
    {
      "cell_type": "markdown",
      "id": "c9d69e27-50f8-4860-95a0-00530554052e",
      "metadata": {
        "id": "c9d69e27-50f8-4860-95a0-00530554052e"
      },
      "source": [
        "### Xem thông tin tập dataset sau khi pre-processing"
      ]
    },
    {
      "cell_type": "code",
      "execution_count": null,
      "id": "71ec3425-f345-44a3-b098-72819cdf9672",
      "metadata": {
        "id": "71ec3425-f345-44a3-b098-72819cdf9672",
        "outputId": "d031c54c-6cf6-4c30-ad35-0529f1ea9d12"
      },
      "outputs": [
        {
          "name": "stdout",
          "output_type": "stream",
          "text": [
            "<class 'pandas.core.frame.DataFrame'>\n",
            "RangeIndex: 200 entries, 0 to 199\n",
            "Data columns (total 11 columns):\n",
            " #   Column                                          Non-Null Count  Dtype \n",
            "---  ------                                          --------------  ----- \n",
            " 0   STT                                             200 non-null    int64 \n",
            " 1   Tên sản phẩm                                    200 non-null    object\n",
            " 2   Giá bán                                         200 non-null    int64 \n",
            " 3   Doanh số 365 ngày gần nhất                      200 non-null    int64 \n",
            " 4   Sản phẩm đã bán trong khoảng 365 ngày gần nhất  200 non-null    int64 \n",
            " 5   Tổng doanh số                                   200 non-null    int64 \n",
            " 6   Tổng lượt bán                                   200 non-null    int64 \n",
            " 7   Tổng đánh giá                                   200 non-null    int64 \n",
            " 8   Brand                                           200 non-null    object\n",
            " 9   Package Type                                    200 non-null    object\n",
            " 10  Danh mục sản phẩm                               200 non-null    object\n",
            "dtypes: int64(7), object(4)\n",
            "memory usage: 17.3+ KB\n"
          ]
        }
      ],
      "source": [
        "data.info()"
      ]
    },
    {
      "cell_type": "markdown",
      "id": "dcce2c1e-73c9-4ee8-ae09-c7ecc20ac063",
      "metadata": {
        "id": "dcce2c1e-73c9-4ee8-ae09-c7ecc20ac063"
      },
      "source": [
        "### Lưu file dùng cho mục đích tạo dashboard"
      ]
    },
    {
      "cell_type": "code",
      "execution_count": null,
      "id": "433e36ef-9009-4cb2-aba0-7dde665e38de",
      "metadata": {
        "id": "433e36ef-9009-4cb2-aba0-7dde665e38de"
      },
      "outputs": [],
      "source": [
        "data.to_excel(\"clean.xlsx\", index=False, engine='openpyxl')"
      ]
    },
    {
      "cell_type": "code",
      "execution_count": null,
      "id": "aa75c3a3-5b21-4dd1-98d7-2f034694e880",
      "metadata": {
        "id": "aa75c3a3-5b21-4dd1-98d7-2f034694e880"
      },
      "outputs": [],
      "source": []
    }
  ],
  "metadata": {
    "kernelspec": {
      "display_name": "Python 3 (ipykernel)",
      "language": "python",
      "name": "python3"
    },
    "language_info": {
      "codemirror_mode": {
        "name": "ipython",
        "version": 3
      },
      "file_extension": ".py",
      "mimetype": "text/x-python",
      "name": "python",
      "nbconvert_exporter": "python",
      "pygments_lexer": "ipython3",
      "version": "3.10.0"
    },
    "colab": {
      "provenance": []
    }
  },
  "nbformat": 4,
  "nbformat_minor": 5
}